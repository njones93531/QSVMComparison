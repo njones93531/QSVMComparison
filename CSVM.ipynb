{
 "cells": [
  {
   "cell_type": "code",
   "execution_count": 1,
   "id": "f3c66978-f764-46be-8429-cfdd4afc7d24",
   "metadata": {
    "tags": []
   },
   "outputs": [],
   "source": [
    "import numpy as np\n",
    "import seaborn as sns\n",
    "import time\n",
    "\n",
    "from matplotlib import pyplot as plt\n",
    "from IPython.display import clear_output\n",
    "from multiprocessing import Pool, cpu_count\n",
    "from joblib import Parallel, delayed\n",
    "\n",
    "from sklearn.svm import LinearSVC\n",
    "from sklearn.multiclass import OneVsRestClassifier\n",
    "from sklearn.decomposition import PCA\n",
    "from sklearn.cluster import SpectralClustering\n",
    "from sklearn.datasets import fetch_covtype\n",
    "from sklearn.model_selection import train_test_split\n",
    "from sklearn.metrics import normalized_mutual_info_score\n",
    "from sklearn.metrics import classification_report, accuracy_score\n",
    "from sklearn.preprocessing import MinMaxScaler, StandardScaler\n",
    "from sklearn.ensemble import BaggingClassifier\n",
    "\n",
    "from qiskit import transpile\n",
    "from qiskit_aer import Aer\n",
    "from qiskit_aer import AerSimulator\n",
    "from qiskit.circuit import (\n",
    "    Parameter, QuantumCircuit, ClassicalRegister, QuantumRegister\n",
    ")\n",
    "from qiskit.primitives import StatevectorSampler\n",
    "from qiskit_algorithms.state_fidelities import ComputeUncompute\n",
    "from qiskit_algorithms.optimizers import COBYLA, SPSA, SLSQP\n",
    "from qiskit_machine_learning.kernels import FidelityQuantumKernel\n",
    "from qiskit_machine_learning.algorithms import QSVC\n",
    "from qiskit.circuit.library import ZFeatureMap, ZZFeatureMap\n",
    "from qiskit.visualization import plot_histogram\n",
    "from qiskit.primitives import Sampler"
   ]
  },
  {
   "cell_type": "code",
   "execution_count": 2,
   "id": "917297a6-282f-430b-8ad6-5e6ee3012bb1",
   "metadata": {
    "tags": []
   },
   "outputs": [
    {
     "name": "stdout",
     "output_type": "stream",
     "text": [
      "Fetching and preprocessing the dataset...\n"
     ]
    }
   ],
   "source": [
    "# Step 1: Fetch and preprocess the dataset\n",
    "print(\"Fetching and preprocessing the dataset...\")\n",
    "data = fetch_covtype(shuffle=True, as_frame=True)\n",
    "X, y = data.data, data.target"
   ]
  },
  {
   "cell_type": "code",
   "execution_count": 3,
   "id": "e4f78d7c-e9ca-4318-a52a-b57d0deb7245",
   "metadata": {
    "tags": []
   },
   "outputs": [],
   "source": [
    "# Normalize features to [0, 1]\n",
    "scaler = MinMaxScaler()\n",
    "X = scaler.fit_transform(X)"
   ]
  },
  {
   "cell_type": "code",
   "execution_count": 4,
   "id": "c9de3a71-2c17-4b2c-9d2d-215155dbb725",
   "metadata": {
    "tags": []
   },
   "outputs": [],
   "source": [
    "# Train/test split\n",
    "X_train, X_test, y_train, y_test = train_test_split(X, y, test_size=0.2, random_state=42)"
   ]
  },
  {
   "cell_type": "code",
   "execution_count": 13,
   "id": "526ee88d-62a8-4a6a-85b6-cb5bfe053618",
   "metadata": {
    "tags": []
   },
   "outputs": [
    {
     "name": "stdout",
     "output_type": "stream",
     "text": [
      "Training CSVM models in One-vs-All configuration...\n"
     ]
    },
    {
     "ename": "TypeError",
     "evalue": "LinearSVC.__init__() got an unexpected keyword argument 'cache_size'",
     "output_type": "error",
     "traceback": [
      "\u001b[0;31m---------------------------------------------------------------------------\u001b[0m",
      "\u001b[0;31mTypeError\u001b[0m                                 Traceback (most recent call last)",
      "Cell \u001b[0;32mIn[13], line 4\u001b[0m\n\u001b[1;32m      2\u001b[0m \u001b[38;5;28mprint\u001b[39m(\u001b[38;5;124m\"\u001b[39m\u001b[38;5;124mTraining CSVM models in One-vs-All configuration...\u001b[39m\u001b[38;5;124m\"\u001b[39m)\n\u001b[1;32m      3\u001b[0m n_estimators \u001b[38;5;241m=\u001b[39m \u001b[38;5;241m100\u001b[39m\n\u001b[0;32m----> 4\u001b[0m svm_clf \u001b[38;5;241m=\u001b[39m OneVsRestClassifier(BaggingClassifier(estimator\u001b[38;5;241m=\u001b[39mLinearSVC(cache_size\u001b[38;5;241m=\u001b[39m\u001b[38;5;241m1000\u001b[39m), max_samples\u001b[38;5;241m=\u001b[39m\u001b[38;5;241m1.0\u001b[39m \u001b[38;5;241m/\u001b[39m n_estimators, n_estimators\u001b[38;5;241m=\u001b[39mn_estimators, n_jobs\u001b[38;5;241m=\u001b[39m\u001b[38;5;241m-\u001b[39m\u001b[38;5;241m1\u001b[39m), verbose\u001b[38;5;241m=\u001b[39m\u001b[38;5;241m10\u001b[39m)\n\u001b[1;32m      5\u001b[0m svm_clf\u001b[38;5;241m.\u001b[39mfit(X_train, y_train)\n\u001b[1;32m      6\u001b[0m \u001b[38;5;28mprint\u001b[39m(\u001b[38;5;124m\"\u001b[39m\u001b[38;5;124mDone\u001b[39m\u001b[38;5;124m\"\u001b[39m)\n",
      "\u001b[0;31mTypeError\u001b[0m: LinearSVC.__init__() got an unexpected keyword argument 'cache_size'"
     ]
    }
   ],
   "source": [
    "# Step 4: One-vs-All training \n",
    "print(\"Training CSVM models in One-vs-All configuration...\")\n",
    "n_estimators = 100\n",
    "svm_clf = OneVsRestClassifier(BaggingClassifier(estimator=LinearSVC(), max_samples=1.0 / n_estimators, n_estimators=n_estimators, n_jobs=-1), verbose=10)\n",
    "svm_clf.fit(X_train, y_train)\n",
    "print(\"Done\")\n"
   ]
  },
  {
   "cell_type": "code",
   "execution_count": 6,
   "id": "a89c4e7e-a9ea-4a16-b65e-97f29745ff4f",
   "metadata": {
    "tags": []
   },
   "outputs": [
    {
     "name": "stdout",
     "output_type": "stream",
     "text": [
      "Making predictions in parallel on 128 cores...\n",
      "Done\n"
     ]
    }
   ],
   "source": [
    "# Function to predict on a chunk of data\n",
    "def predict_chunk(chunk):\n",
    "    return svm_clf.predict(chunk)\n",
    "\n",
    "n_jobs = cpu_count()\n",
    "\n",
    "# Split the test data into chunks\n",
    "n_chunks = n_jobs  # Adjust based on available memory and CPU cores\n",
    "X_test_chunks = np.array_split(X_test, n_chunks)\n",
    "\n",
    "print(f\"Making predictions in parallel on {n_jobs} cores...\")\n",
    "y_pred_chunks = Parallel(n_jobs=n_jobs)(delayed(predict_chunk)(chunk) for chunk in X_test_chunks)\n",
    "\n",
    "# Combine results\n",
    "y_pred = np.concatenate(y_pred_chunks)\n",
    "\n",
    "print(\"Done\")"
   ]
  },
  {
   "cell_type": "code",
   "execution_count": 7,
   "id": "2b035571-f518-449a-90d7-72561bcfdb29",
   "metadata": {},
   "outputs": [
    {
     "name": "stdout",
     "output_type": "stream",
     "text": [
      "Evaluating the model...\n",
      "Accuracy: 0.7091\n",
      "Classification Report:\n",
      "              precision    recall  f1-score   support\n",
      "\n",
      "           1       0.70      0.67      0.69     42469\n",
      "           2       0.73      0.80      0.76     56750\n",
      "           3       0.61      0.88      0.72      7020\n",
      "           4       0.64      0.16      0.25       553\n",
      "           5       0.43      0.00      0.01      1889\n",
      "           6       0.47      0.04      0.08      3410\n",
      "           7       0.64      0.50      0.57      4112\n",
      "\n",
      "    accuracy                           0.71    116203\n",
      "   macro avg       0.60      0.44      0.44    116203\n",
      "weighted avg       0.70      0.71      0.69    116203\n",
      "\n",
      "Done\n"
     ]
    }
   ],
   "source": [
    "# Evaluate the classifier\n",
    "print(\"Evaluating the model...\")\n",
    "accuracy = accuracy_score(y_test, y_pred)\n",
    "print(f\"Accuracy: {accuracy:.4f}\")\n",
    "print(\"Classification Report:\")\n",
    "print(classification_report(y_test, y_pred))\n",
    "print(\"Done\")\n"
   ]
  },
  {
   "cell_type": "code",
   "execution_count": null,
   "id": "a806b067-933f-495f-b891-80a17b3abdc5",
   "metadata": {},
   "outputs": [],
   "source": []
  }
 ],
 "metadata": {
  "kernelspec": {
   "display_name": "QiskitEnv",
   "language": "python",
   "name": "qiskitenv"
  },
  "language_info": {
   "codemirror_mode": {
    "name": "ipython",
    "version": 3
   },
   "file_extension": ".py",
   "mimetype": "text/x-python",
   "name": "python",
   "nbconvert_exporter": "python",
   "pygments_lexer": "ipython3",
   "version": "3.12.7"
  }
 },
 "nbformat": 4,
 "nbformat_minor": 5
}
